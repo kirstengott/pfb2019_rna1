{
 "cells": [
  {
   "cell_type": "markdown",
   "metadata": {},
   "source": [
    "RNA-seq project.\n",
    "\n",
    "Day 1. Make an alignment with STAR \n"
   ]
  },
  {
   "cell_type": "markdown",
   "metadata": {},
   "source": [
    "Here is commands to get updates from parental repository at git-hub. \n",
    "    git fetch upstream\n",
    "    git checkout master\n",
    "    git merge upstream/master\n",
    "    git push"
   ]
  },
  {
   "cell_type": "markdown",
   "metadata": {},
   "source": [
    "Two SAMPLES\n",
    "\n",
    "Red-light pulse samples:\n",
    "SRR9659514\n",
    "SRR9659515\n",
    "SRR9659516\n",
    "\n",
    "Far-red pulse samples:\n",
    "SRR9659517\n",
    "SRR9659518\n",
    "SRR9659519"
   ]
  },
  {
   "cell_type": "code",
   "execution_count": null,
   "metadata": {},
   "outputs": [],
   "source": [
    "#Decompress all the fastq files and reference files \n",
    "#as well (being inside of the folder nclided the files)\n",
    "\n",
    "gzip -d ./*fastq.gz\n",
    "\n",
    "gzip -d ./*fa.gz\n",
    "\n",
    "gzip -d ./*fna.gz"
   ]
  },
  {
   "cell_type": "markdown",
   "metadata": {},
   "source": [
    "Create a directory:\n",
    "\n",
    "chromosome1-indexed-genome/\n",
    "\n",
    "We use GCF_000001735.4_TAIR10.1_genomic_chr1.fa and GCF_000001735.4_TAIR10.1_genomic_chr1.gff\n",
    "\n",
    "In addition to the aforementioned options, for GFF3 formatted annotations you need to use\n",
    "--sjdbGTFtagExonParentTranscript Parent. \n",
    "\n",
    "The command runs from ~ directory"
   ]
  },
  {
   "cell_type": "code",
   "execution_count": null,
   "metadata": {},
   "outputs": [],
   "source": [
    "STAR --runThreadN 4 --runMode genomeGenerate --genomeDir ~/chromosome1-indexed-genome/ --genomeFastaFiles ~/pfb2019_rna1/reference/chr1/GCF_000001735.4_TAIR10.1_genomic_chr1.fa --sjdbGTFtagExonParentTranscript ~/pfb2019_rna1/reference/chr1/GCF_000001735.4_TAIR10.1_genomic_chr1.gff"
   ]
  },
  {
   "cell_type": "code",
   "execution_count": null,
   "metadata": {},
   "outputs": [],
   "source": [
    "#someoneelses \n",
    "STAR --runMode genomeGenerate --genomeDir genome/star/ --genomeFastaFiles /genome/Homo_sapiens.GRCh37.75.fa --sjdbGTFfile /genome/Homo_sapiens.GRCh37.75.gtf --runThreadN 20 --sjdbGTFtagExonParentTranscript Parent --sjdbGTFfeatureExon CDS --outFileNamePrefix genome/star/"
   ]
  },
  {
   "cell_type": "markdown",
   "metadata": {},
   "source": [
    "RUN STAR\n",
    "The basic options to run a mapping job are as follows:\n",
    "--runThreadN NumberOfThreads\n",
    "--genomeDir /path/to/genomeDir\n",
    "--readFilesIn /path/to/read1 [/path/to/read2 ]\n",
    "\n",
    "We will give pass 1 then pass 2 (order is important!), all three repeats for one condition. Then saparately same connamd for another condition.\n",
    "\n",
    "STARcan not process 6 files, so we give them as tree pairs (three samples).\n"
   ]
  },
  {
   "cell_type": "code",
   "execution_count": null,
   "metadata": {},
   "outputs": [],
   "source": [
    "STAR --runThreadN 8 --genomeLoad LoadAndKeep --genomeDir chromosome1-indexed-genome/ --readFilesIn ~/fastq/SRR9659514_pass_1_edit.fastq ~/fastq/SRR9659514_pass_2_edit.fastq  --outFileNamePrefix ~/STAR-mapping-output/SRR9659514sample. \n",
    "\n",
    "\n",
    "STAR --runThreadN 8 --genomeDir chromosome1-indexed-genome/ --readFilesIn ~/fastq/SRR9659515_pass_1_edit.fastq ~/fastq/SRR9659515_pass_2_edit.fastq  --outFileNamePrefix ~/STAR-mapping-output/SRR9659515sample.\n",
    "\n",
    "\n",
    "STAR --runThreadN 8 --genomeDir chromosome1-indexed-genome/ --readFilesIn ~/fastq/SRR9659516_pass_1_edit.fastq ~/fastq/SRR9659516_pass_2_edit.fastq  --outFileNamePrefix ~/STAR-mapping-output/SRR9659516sample.\n",
    "\n",
    "\n",
    "STAR --runThreadN 8 --genomeDir chromosome1-indexed-genome/ --readFilesIn ~/fastq/SRR9659517_pass_1_edit.fastq ~/fastq/SRR9659517_pass_2_edit.fastq  --outFileNamePrefix ~/STAR-mapping-output/SRR9659517sample.\n",
    "\n",
    "\n",
    "STAR --runThreadN 8 --genomeDir chromosome1-indexed-genome/ --readFilesIn ~/fastq/SRR9659518_pass_1_edit.fastq ~/fastq/SRR9659518_pass_2_edit.fastq  --outFileNamePrefix ~/STAR-mapping-output/SRR9659518sample.\n",
    "\n",
    "\n",
    "STAR --runThreadN 8 --genomeLoad LoadAndKeep --genomeDir chromosome1-indexed-genome/ --readFilesIn ~/fastq/SRR9659519_pass_1_edit.fastq ~/fastq/SRR9659519_pass_2_edit.fastq  --outFileNamePrefix ~/STAR-mapping-output/SRR9659519sample.\n",
    "\n",
    "\n",
    "\n",
    "\n",
    "htop #command to see how busy cores are\n"
   ]
  },
  {
   "cell_type": "code",
   "execution_count": null,
   "metadata": {},
   "outputs": [],
   "source": [
    "samtools view -S -b sample.sam > sample.bam\n",
    "\n",
    "samtools sort sample.bam -o sample.sorted.bam"
   ]
  },
  {
   "cell_type": "markdown",
   "metadata": {},
   "source": [
    "Short files to play with code!! and mapping for them is "
   ]
  },
  {
   "cell_type": "code",
   "execution_count": null,
   "metadata": {},
   "outputs": [],
   "source": [
    "STAR --runThreadN 8 --genomeDir chromosome1-indexed-genome/ --readFilesIn ~/pfb2019_rna1/fastq-files/SRR9659514_pass_1_short.fastq ~/pfb2019_rna1/fastq-files/SRR9659514_pass_2_short.fastq  --outFileNamePrefix ~/STAR-short-mapping-output/SRR9659514sample. \n",
    "\n",
    "\n",
    "STAR --runThreadN 8 --genomeDir chromosome1-indexed-genome/ --readFilesIn ~/pfb2019_rna1/fastq-files/SRR9659515_pass_1_short.fastq ~/pfb2019_rna1/fastq-files/SRR9659515_pass_2_short.fastq  --outFileNamePrefix ~/STAR-short-mapping-output/SRR9659515sample.\n",
    "\n",
    "\n",
    "STAR --runThreadN 8 --genomeDir chromosome1-indexed-genome/ --readFilesIn ~/pfb2019_rna1/fastq-files/SRR9659516_pass_1_short.fastq ~/pfb2019_rna1/fastq-files/SRR9659516_pass_2_short.fastq  --outFileNamePrefix ~/STAR-short-mapping-output/SRR9659516sample.\n",
    "\n",
    "\n",
    "STAR --runThreadN 8 --genomeDir chromosome1-indexed-genome/ --readFilesIn ~/pfb2019_rna1/fastq-files/SRR9659517_pass_1_short.fastq ~/pfb2019_rna1/fastq-files/SRR9659517_pass_2_short.fastq  --outFileNamePrefix ~/STAR-short-mapping-output/SRR9659517sample.\n",
    "\n",
    "\n",
    "STAR --runThreadN 8 --genomeDir chromosome1-indexed-genome/ --readFilesIn ~/pfb2019_rna1/fastq-files/SRR9659518_pass_1_short.fastq ~/pfb2019_rna1/fastq-files/SRR9659518_pass_2_short.fastq  --outFileNamePrefix ~/STAR-short-mapping-output/SRR9659518sample.\n",
    "\n",
    "\n",
    "STAR --runThreadN 8 --genomeDir chromosome1-indexed-genome/ --readFilesIn ~/pfb2019_rna1/fastq-files/SRR9659519_pass_1_short.fastq ~/pfb2019_rna1/fastq-files/SRR9659519_pass_2_short.fastq  --outFileNamePrefix ~/STAR-short-mapping-output/SRR9659519sample.\n"
   ]
  },
  {
   "cell_type": "markdown",
   "metadata": {},
   "source": [
    "Here is small script to play with bash commands and stdout and check_call\n"
   ]
  },
  {
   "cell_type": "code",
   "execution_count": null,
   "metadata": {},
   "outputs": [],
   "source": [
    "#!/usr/bin/env python3\n",
    "\n",
    "import subprocess, sys\n",
    "\n",
    "output_messages = ''\n",
    "\n",
    "    ##specify we want to capture stdout\n",
    "    ##we want to split it line by line\n",
    "    ##sys.stdout.splitlines() = open('STAR_mapping_stdout.txt', 'w')\n",
    "\n",
    "sys.stdout = open('STAR_mapping_stdout.txt', 'w')\n",
    "\n",
    "output_messages = subprocess.run([\"ls\", \"-l\"], stdout=subprocess.PIPE)\n",
    "\n",
    "print(output_messages)\n",
    "\n"
   ]
  },
  {
   "cell_type": "markdown",
   "metadata": {},
   "source": [
    "Try to wrap up our STAR bash command inside Python:"
   ]
  },
  {
   "cell_type": "code",
   "execution_count": null,
   "metadata": {},
   "outputs": [],
   "source": [
    "#!/usr/bin/env python3\n",
    "\n",
    "import subprocess, sys, re\n",
    "\n",
    "output_messages = ''\n",
    "\n",
    "    ##specify we want to capture stdout\n",
    "    ##we want to split it line by line\n",
    "    ##sys.stdout.splitlines() = open('STAR_mapping_stdout.txt', 'w')\n",
    "\n",
    "sys.stdout = open('STAR_mapping_stdout.txt', 'w')\n",
    "\n",
    "#output_messages = subprocess.run([\"ls\", \"-l\"], stdout=subprocess.PIPE)\n",
    "#print(output_messages)\n",
    "\n",
    "\n",
    "    ##input location of FASTA files and genome annotation\n",
    "\n",
    "genome_location = input ('Input location of genome annotation   ')   #~/pfb2019_rna1/reference/chr1/\n",
    "\n",
    "print('You choice is:   ', genome_location)      #input form user to localize \n",
    "\n",
    "fastq_location = input('Input location of fastq data   ')   #~/fastq/\n",
    "\n",
    "print(\"You entered:  \", fastq_location)\n",
    "\n",
    "try:\n",
    "\n",
    "    output_message1 = subprocess.run([\"gzip\", \"-d\", genome_location+\"*fa.gz\"])\n",
    "    output_message2 = subprocess.run([\"gzip\", \"-d\", genome_location+\"*gff.gz\"])\n",
    "    output_message2 = subprocess.run([\"gzip\", \"-d\", fastq_location+\"*fastq.gz\"])\n",
    "    \n",
    "    print(output_message1, '\\n', output_message1) \n",
    "\n",
    "except:\n",
    "    \n",
    "    output_message4 = subprocess.run([\"ls\", genome_location])\n",
    "    output_message5 = subprocess.run([\"ls\", fastq_location])\n",
    "    print(\"Seems like these files are decompressed    \")\n",
    "    print(output_message4)\n",
    "    print(output_message5)\n",
    "    \n",
    "try:\n",
    "    ##Here I do STAR for short files!!!\n",
    "    output_message1 = subprocess.run([\"gzip\", \"-d\", genome_location+\"*fa.gz\"])\n",
    "    \n",
    "\n",
    "output_message6 = subprocess.run([\"STAR\", \"--runThreadN\", \"8\" \"--genomeDir\" \"chromosome1-indexed-genome/\" \"--readFilesIn\" \"~/pfb2019_rna1/fastq-files/SRR9659514_pass_1_short.fastq\" ~/pfb2019_rna1/fastq-files/SRR9659514_pass_2_short.fastq  --outFileNamePrefix ~/STAR-short-mapping-output/SRR9659514sample. \n",
    "\n",
    "\n",
    "STAR --runThreadN 8 --genomeDir chromosome1-indexed-genome/ --readFilesIn ~/pfb2019_rna1/fastq-files/SRR9659515_pass_1_short.fastq ~/pfb2019_rna1/fastq-files/SRR9659515_pass_2_short.fastq  --outFileNamePrefix ~/STAR-short-mapping-output/SRR9659515sample.\n",
    "\n",
    "\n",
    "STAR --runThreadN 8 --genomeDir chromosome1-indexed-genome/ --readFilesIn ~/pfb2019_rna1/fastq-files/SRR9659516_pass_1_short.fastq ~/pfb2019_rna1/fastq-files/SRR9659516_pass_2_short.fastq  --outFileNamePrefix ~/STAR-short-mapping-output/SRR9659516sample.\n",
    "\n",
    "\n",
    "STAR --runThreadN 8 --genomeDir chromosome1-indexed-genome/ --readFilesIn ~/pfb2019_rna1/fastq-files/SRR9659517_pass_1_short.fastq ~/pfb2019_rna1/fastq-files/SRR9659517_pass_2_short.fastq  --outFileNamePrefix ~/STAR-short-mapping-output/SRR9659517sample.\n",
    "\n",
    "\n",
    "STAR --runThreadN 8 --genomeDir chromosome1-indexed-genome/ --readFilesIn ~/pfb2019_rna1/fastq-files/SRR9659518_pass_1_short.fastq ~/pfb2019_rna1/fastq-files/SRR9659518_pass_2_short.fastq  --outFileNamePrefix ~/STAR-short-mapping-output/SRR9659518sample.\n",
    "\n",
    "\n",
    "STAR --runThreadN 8 --genomeDir chromosome1-indexed-genome/ --readFilesIn ~/pfb2019_rna1/fastq-files/SRR9659519_pass_1_short.fastq ~/pfb2019_rna1/fastq-files/SRR9659519_pass_2_short.fastq  --outFileNamePrefix ~/STAR-short-mapping-output/SRR9659519sample.\n",
    "\n",
    "    \n",
    "    \n",
    "except:\n",
    "    \n",
    "  \n",
    "\n",
    "    \n",
    "    #### FASTA FILE PROCESS\n",
    "    #    Raw files in: ~/../share/fastq  server_pwd:../projects/rna1/share/fastq\n",
    "    raw_data_path='cd ~/../share/fastq'\n",
    "    print(raw_data_path)\n",
    "    myCmd = os.popen(raw_data_path).read()\n",
    "    myCmd = os.popen('ls -lhg').read()\n",
    "    print(myCmd)\n",
    "\n",
    "    #fasta_R1=sys.argv[1]\n",
    "    #fasta_R2=sys.argv[2]\n",
    "    #fastqc_cmd = 'fastqc -help xxxxxx '\n",
    "    #myCmd  = os.popen(fastqc_cmd).read()\n",
    "    #print(myCmd)\n",
    "\n",
    "\n",
    "except:\n",
    "    \n",
    "    print(\"Please provide the fasta file and try again\")\n",
    "\n",
    "\n",
    "\n",
    "\n",
    "\n",
    "\n",
    "\n",
    "\n",
    "\n",
    "rtn = subprocess.run(['ls'], stdout=subprocess.PIPE )  #capture STDOUT with all available files\n",
    "bytes = rtn.stdout\n",
    "stdout = bytes.decode('utf-8')\n",
    "hits = stdout.splitlines()     #list of filenames\n",
    "\n",
    "target_files = []     #new empty list for files selected by key words\n",
    "\n",
    "\n",
    "\n",
    "\n"
   ]
  },
  {
   "cell_type": "code",
   "execution_count": null,
   "metadata": {},
   "outputs": [],
   "source": [
    "samtools to convert sam to bam\n",
    "\n",
    "samtools view -S -b *.sam > *.bam | samtools sort *.bam -o *.sorted.bam \n"
   ]
  },
  {
   "cell_type": "code",
   "execution_count": null,
   "metadata": {},
   "outputs": [],
   "source": [
    "samtools view -S -b SRR9659514sample.Aligned.out.sam > SRR9659514sample.Aligned.out.bam | samtools sort SRR9659514sample.Aligned.out.bam -o SRR9659514sample.Aligned.out.sorted.bam\n",
    "samtools view -S -b SRR9659516sample.Aligned.out.sam > SRR9659516sample.Aligned.out.bam | sort -o SRR9659516sample.Aligned.out.sorted.bam \n",
    "samtools view -S -b SRR9659518sample.Aligned.out.sam > SRR9659518sample.Aligned.out.bam | sort -o SRR9659518sample.Aligned.out.sorted.bam \n",
    "samtools view -S -b SRR9659515sample.Aligned.out.sam > SRR9659515sample.Aligned.out.bam | sort -o SRR9659515sample.Aligned.out.sorted.bam  \n",
    "samtools view -S -b SRR9659517sample.Aligned.out.sam > SRR9659517sample.Aligned.out.bam | sort -o SRR9659517sample.Aligned.out.sorted.bam\n",
    "samtools view -S -b SRR9659519sample.Aligned.out.sam > SRR9659519sample.Aligned.out.bam | sort -o SRR9659519sample.Aligned.out.sorted.bam"
   ]
  },
  {
   "cell_type": "code",
   "execution_count": null,
   "metadata": {},
   "outputs": [],
   "source": [
    "samtools sort SRR9659514sample.Aligned.out.sam > SRR9659514sample.Aligned.out.sorted.sam | samtools view -S -b SRR9659514sample.Aligned.out.sorted.sam -o SRR9659514sample.Aligned.out.sorted.bam"
   ]
  },
  {
   "cell_type": "code",
   "execution_count": null,
   "metadata": {},
   "outputs": [],
   "source": [
    "samtools view -Su SRR9659514sample.Aligned.out.sam | samtools sort -o SRR9659514sample.Aligned.out.sorted.bam\n",
    "\n",
    "samtools view -Su SRR9659515sample.Aligned.out.sam | samtools sort -o SRR9659515sample.Aligned.out.sorted.bam\n",
    "\n",
    "samtools view -Su SRR9659516sample.Aligned.out.sam | samtools sort -o SRR9659516sample.Aligned.out.sorted.bam\n",
    "\n",
    "samtools view -Su SRR9659517sample.Aligned.out.sam | samtools sort -o SRR9659517sample.Aligned.out.sorted.bam\n",
    "\n",
    "samtools view -Su SRR9659518sample.Aligned.out.sam | samtools sort -o SRR9659518sample.Aligned.out.sorted.bam\n",
    "\n",
    "samtools view -Su SRR9659519sample.Aligned.out.sam | samtools sort -o SRR9659519sample.Aligned.out.sorted.bam"
   ]
  },
  {
   "cell_type": "markdown",
   "metadata": {},
   "source": [
    "#Move .bam to subfolder"
   ]
  },
  {
   "cell_type": "code",
   "execution_count": null,
   "metadata": {},
   "outputs": [],
   "source": [
    "mkdir sorted-bams/\n",
    "mv *out.sorted.bam ./sorted-bams"
   ]
  },
  {
   "cell_type": "markdown",
   "metadata": {},
   "source": [
    "stringtie "
   ]
  },
  {
   "cell_type": "markdown",
   "metadata": {},
   "source": [
    "EXAMPLE FROM PAPER - https://www.nature.com/articles/nprot.2016.095"
   ]
  },
  {
   "cell_type": "code",
   "execution_count": null,
   "metadata": {},
   "outputs": [],
   "source": [
    "-l - labeling"
   ]
  },
  {
   "cell_type": "code",
   "execution_count": null,
   "metadata": {},
   "outputs": [],
   "source": [
    "$ stringtie -p 8 -G ~/pfb2019_rna1/reference/chr1/GCF_000001735.4_TAIR10.1_genomic_chr1.gff -o SRR9659514sample_chr1.gtf SRR9659514sample.Aligned.out.sorted.bam\n",
    "\n",
    "$ stringtie -p 8 -G ~/pfb2019_rna1/reference/chr1/GCF_000001735.4_TAIR10.1_genomic_chr1.gff -o SRR9659515sample_chr1.gtf SRR9659515sample.Aligned.out.sorted.bam\n",
    "\n",
    "$ stringtie -p 8 -G ~/pfb2019_rna1/reference/chr1/GCF_000001735.4_TAIR10.1_genomic_chr1.gff -o SRR9659516sample_chr1.gtf SRR9659516sample.Aligned.out.sorted.bam\n",
    "\n",
    "$ stringtie -p 8 -G ~/pfb2019_rna1/reference/chr1/GCF_000001735.4_TAIR10.1_genomic_chr1.gff -o SRR9659517sample_chr1.gtf SRR9659517sample.Aligned.out.sorted.bam\n",
    "\n",
    "$ stringtie -p 8 -G ~/pfb2019_rna1/reference/chr1/GCF_000001735.4_TAIR10.1_genomic_chr1.gff -o SRR9659518sample_chr1.gtf SRR9659518sample.Aligned.out.sorted.bam\n",
    "\n",
    "$ stringtie -p 8 -G ~/pfb2019_rna1/reference/chr1/GCF_000001735.4_TAIR10.1_genomic_chr1.gff -o SRR9659519sample_chr1.gtf SRR9659519sample.Aligned.out.sorted.bam\n"
   ]
  },
  {
   "cell_type": "markdown",
   "metadata": {},
   "source": [
    "Create a mergelist.txt\n",
    "\n",
    "SRR9659515sample_chr1.gtf\n",
    "SRR9659516sample_chr1.gtf\n",
    "SRR9659517sample_chr1.gtf\n",
    "SRR9659518sample_chr1.gtf\n",
    "SRR9659519sample_chr1.gtf\n",
    "\n",
    "\n",
    "Merge all the transcripts to one file. This step creates a uniform set of transcripts for all samples to facilitate the downstream calculation of differentially expressed levels for all transcripts among the different experimental conditions. "
   ]
  },
  {
   "cell_type": "code",
   "execution_count": null,
   "metadata": {},
   "outputs": [],
   "source": [
    "stringtie --merge -p 8 -G ~/pfb2019_rna1/reference/chr1/GCF_000001735.4_TAIR10.1_genomic_chr1.gff -o stringtie_merged.gtf mergelist.txt"
   ]
  },
  {
   "cell_type": "markdown",
   "metadata": {},
   "source": [
    "Estimate transcript abundances and create table counts for Ballgown:"
   ]
  },
  {
   "cell_type": "code",
   "execution_count": null,
   "metadata": {},
   "outputs": [],
   "source": [
    "stringtie -e -B -p 8 -G stringtie_merged.gtf -o ballgown/SRR9659514sample/SRR9659514sample_chr1.gtf SRR9659514sample.Aligned.out.sorted.bam\n",
    "\n",
    "stringtie -e -B -p 8 -G stringtie_merged.gtf -o ballgown/SRR9659515sample/SRR9659515sample_chr1.gtf SRR9659515sample.Aligned.out.sorted.bam\n",
    "\n",
    "stringtie -e -B -p 8 -G stringtie_merged.gtf -o ballgown/SRR9659516sample/SRR9659516sample_chr1.gtf SRR9659516sample.Aligned.out.sorted.bam\n",
    "\n",
    "stringtie -e -B -p 8 -G stringtie_merged.gtf -o ballgown/SRR9659517sample/SRR9659517sample_chr1.gtf SRR9659517sample.Aligned.out.sorted.bam\n",
    "\n",
    "stringtie -e -B -p 8 -G stringtie_merged.gtf -o ballgown/SRR9659518sample/SRR9659518sample_chr1.gtf SRR9659518sample.Aligned.out.sorted.bam\n",
    "\n",
    "stringtie -e -B -p 8 -G stringtie_merged.gtf -o ballgown/SRR9659519sample/SRR9659519sample_chr1.gtf SRR9659519sample.Aligned.out.sorted.bam\n",
    "\n",
    "\n"
   ]
  },
  {
   "cell_type": "markdown",
   "metadata": {},
   "source": [
    "We place prepDE.py from  https://ccb.jhu.edu/software/stringtie/index.shtml?t=manual#de into /projects/rna1/share/STAR-short-mapping-output/sorted-bams\n",
    "It is python2 script.\n",
    "Important to have ballgown/ folder in th same location with python script.\n",
    "/projects/rna1/share/STAR-short-mapping-output/sorted-bams/ballgown"
   ]
  },
  {
   "cell_type": "code",
   "execution_count": null,
   "metadata": {},
   "outputs": [],
   "source": [
    "python2 prepDE.py"
   ]
  },
  {
   "cell_type": "markdown",
   "metadata": {},
   "source": [
    "Returns gene_count_matrix.csv and transcript_count_matrix.csv files\n",
    "\n",
    "Here is a way to chance type to .tsv (needed for DeSeq2 in Python script)"
   ]
  },
  {
   "cell_type": "code",
   "execution_count": null,
   "metadata": {},
   "outputs": [],
   "source": [
    "cat gene_count_matrix.csv | sed 's/,/\\t/g' > gene_count_matrix.tsv\n",
    "\n",
    "cat transcript_count_matrix.csv | sed 's/,/\\t/g' > transcript_count_matrix.tsv\n"
   ]
  },
  {
   "cell_type": "markdown",
   "metadata": {},
   "source": [
    "The way to run DeSeq2 from python - is taken from here!\n",
    "https://gist.github.com/wckdouglas/3f8fb27a3d7a1eb24c598aa04f70fb25"
   ]
  },
  {
   "cell_type": "markdown",
   "metadata": {},
   "source": [
    "conda was installed on server\n",
    "\n",
    "In command line type:\n",
    "\n",
    "conda config --add channels r\n",
    "conda config --add channels bioconda\n",
    "conda config --add channels auto\n",
    "conda config --add channels conda-forge\n",
    "\n",
    "conda install bioconductor-deseq2 \\\n",
    "    bioconductor-dexseq \\\n",
    "    pandas \\\n",
    "    rpy2 \n",
    "    \n",
    "    All next steps performed in interpreter:"
   ]
  },
  {
   "cell_type": "code",
   "execution_count": null,
   "metadata": {},
   "outputs": [],
   "source": [
    "import pandas as pd \n",
    "import numpy as np\n",
    "\n",
    "df = pd.read_table('./transcript_count_matrix.tsv')\n",
    "df.head()\n",
    "\n",
    "\n",
    "\n",
    "sample_df = pd.DataFrame({'samplename': df.columns}) \\\n",
    "        .query('samplename != \"id\"')\\\n",
    "        .assign(sample = lambda d: d.samplename.str.extract('([RF])_', expand=False)) \\\n",
    "        .assign(replicate = lambda d: d.samplename.str.extract('_([123])', expand=False)) \n",
    "sample_df.index = sample_df.samplename\n",
    "sample_df.head()\n",
    "\n",
    "from diffexpr.py_deseq import py_DESeq2\n",
    "\n",
    "dds = py_DESeq2(count_matrix = df,\n",
    "               design_matrix = sample_df,\n",
    "               design_formula = '~ light',\n",
    "               gene_column = 'transcript_id') \n",
    "    \n",
    "dds.run_deseq() \n",
    "dds.get_deseq_result()\n",
    "res = dds.deseq_result \n",
    "res.head()"
   ]
  },
  {
   "cell_type": "markdown",
   "metadata": {},
   "source": [
    "The output - bacause the package was not installed:\n",
    "\n",
    "File \"<stdin>\", line 1, in <module>\n",
    "ModuleNotFoundError: No module named 'diffexp'\n",
    "    \n",
    "    SOLUTION - write the path for python:"
   ]
  },
  {
   "cell_type": "markdown",
   "metadata": {},
   "source": [
    "(base) mtk@ip-172-31-41-215:/projects/rna1/share/STAR-short-mapping-output/sorted-bams/diffexpr/diffexpr$ cd ../\n",
    "(base) mtk@ip-172-31-41-215:/projects/rna1/share/STAR-short-mapping-output/sorted-bams/diffexpr$ export PYTHONPATH=`pwd`\n",
    "(base) mtk@ip-172-31-41-215:/projects/rna1/share/STAR-short-mapping-output/sorted-bams/diffexpr$ echo $PYTHONPATH\n",
    "/projects/rna1/share/STAR-short-mapping-output/sorted-bams/diffexpr\n",
    "(base) mtk@ip-172-31-41-215:/projects/rna1/share/STAR-short-mapping-output/sorted-bams/diffexpr$ python3\n",
    "Python 3.7.3 | packaged by conda-forge | (default, Jul  1 2019, 21:52:21)\n",
    "[GCC 7.3.0] :: Anaconda, Inc. on linux\n",
    "Type \"help\", \"copyright\", \"credits\" or \"license\" for more information.\n",
    ">>> import diffexpr\n",
    ">>> from diffexp.py_deseq import py_DESeq2"
   ]
  },
  {
   "cell_type": "markdown",
   "metadata": {},
   "source": [
    "The output I got and stopped that idea...\n",
    "\n",
    "\n",
    ">>> dds = py_DESeq2(count_matrix = df,\n",
    "...                design_matrix = sample_df,\n",
    "...                design_formula = '~ light',\n",
    "...                gene_column = 'transcript_id')\n",
    "Traceback (most recent call last):\n",
    "  File \"<stdin>\", line 4, in <module>\n",
    "  File \"/projects/rna1/share/STAR-short-mapping-output/sorted-bams/diffexpr/diffexpr/py_deseq.py\", line 50, in __init__\n",
    "    self.count_matrix = pandas2ri.py2ri(count_matrix.set_index(self.gene_column))\n",
    "AttributeError: module 'rpy2.robjects.pandas2ri' has no attribute 'py2ri'\n",
    ">>> rpy2.robjects.pandas2ri' has no attribute 'py2ri"
   ]
  },
  {
   "cell_type": "markdown",
   "metadata": {},
   "source": [
    "Now I'm writing a Python script for DeSeq2 to call R inside from Python. R script (thanks Brook)"
   ]
  },
  {
   "cell_type": "code",
   "execution_count": null,
   "metadata": {},
   "outputs": [],
   "source": [
    "library(readr)\n",
    "library(DESeq2)\n",
    "transcript_count_matrix <- data.frame(read_csv(\"~/../share/STAR-short-mapping-output/sorted-bams/transcript_count_matrix.csv\"))\n",
    "\n",
    "\n",
    "rownames(transcript_count_matrix) = transcript_count_matrix$transcript_id\n",
    "transcript_count_matrix$transcript_id = NULL\n",
    "\n",
    "count_matrix = as.matrix(transcript_count_matrix)\n",
    "\n",
    "pheno_data = read.csv(\"~/../share/STAR-short-mapping-output/sorted-bams/phenotypedata.csv\", row.names = 1)\n",
    "\n",
    "dds <- DESeqDataSetFromMatrix(countData = count_matrix, colData = pheno_data, design = ~ light)\n",
    "\n",
    "dds <- DESeq(dds)\n",
    "res <- results(dds)\n",
    "\n",
    "resOrdered <- res[order(res$log2FoldChange),] ##order by log fold change\n",
    "restableordered <- data.frame(resOrdered)\n",
    "restableordered <- na.omit(restableordered)\n",
    "headrestableordered <- head(restableordered)\n",
    "tailrestableordered <- tail(restableordered)\n",
    "totaltable <- rbind(headrestableordered,tailrestableordered)\n",
    "totaltablefolds <- totaltable[c(2)]\n",
    "\n",
    "jpeg('~/../share/STAR-short-mapping-output/sorted-bams/foldchangegraph.jpg')\n",
    "barplot(as.matrix(totaltablefolds),\n",
    "        main = \"Most Extreme Changes by Fold Change\",\n",
    "        ylab = \"Fold Change\",\n",
    "        col = \"light green\",\n",
    "        ylim =  c(-40,40),\n",
    "        beside = TRUE)\n",
    "dev.off()\n",
    "\n",
    "write.table(totaltablefolds, file = \"~/../share/STAR-short-mapping-output/sorted-bams/DESeq2-output-table.csv\", sep = \",\", col.names = NA,\n",
    "            qmethod = \"double\")"
   ]
  },
  {
   "cell_type": "markdown",
   "metadata": {},
   "source": [
    "Python code to call Rscript_DESeq2.R\n",
    "\n",
    "Python-to-Rscript_DESeq2.py"
   ]
  },
  {
   "cell_type": "code",
   "execution_count": null,
   "metadata": {},
   "outputs": [],
   "source": [
    "#!/usr/bin/env python3\n",
    "import subprocess\n",
    "process = subprocess.Popen([\"Rscript\", \"Rscript_DESeq2.R\"])\n",
    "process.wait()\n",
    "\n",
    "\n",
    "#subprocess.call(\"Rscript script.R --args arg1 arg2\", shell=True)\n",
    "#subprocess.call([\"Rscript\", \"script.R\", \"--args\", \"arg1\", \"arg2\"])\n",
    "\n",
    "\n"
   ]
  }
 ],
 "metadata": {
  "kernelspec": {
   "display_name": "Python 3",
   "language": "python",
   "name": "python3"
  },
  "language_info": {
   "codemirror_mode": {
    "name": "ipython",
    "version": 3
   },
   "file_extension": ".py",
   "mimetype": "text/x-python",
   "name": "python",
   "nbconvert_exporter": "python",
   "pygments_lexer": "ipython3",
   "version": "3.7.3"
  }
 },
 "nbformat": 4,
 "nbformat_minor": 2
}
