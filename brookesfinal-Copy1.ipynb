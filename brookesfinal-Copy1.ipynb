{
 "cells": [
  {
   "cell_type": "markdown",
   "metadata": {},
   "source": [
    "To log on to AWS, go to Downloads directory and run the following:"
   ]
  },
  {
   "cell_type": "code",
   "execution_count": null,
   "metadata": {},
   "outputs": [],
   "source": [
    "ssh -i PFB2019-student.pem bto@rna1.programmingforbiology.org"
   ]
  },
  {
   "cell_type": "markdown",
   "metadata": {},
   "source": [
    "First index the genome using the following format:\n",
    "--runThreadN NumberOfThreads\n",
    "--runMode genomeGenerate\n",
    "--genomeDir /path/to/genomeDir\n",
    "--genomeFastaFiles /path/to/genome/fasta1 /path/to/genome/fasta2 ...\n",
    "--sjdbGTFfile /path/to/annotations.gtf"
   ]
  },
  {
   "cell_type": "code",
   "execution_count": 2,
   "metadata": {
    "scrolled": true
   },
   "outputs": [
    {
     "data": {
      "text/plain": [
       "5"
      ]
     },
     "execution_count": 2,
     "metadata": {},
     "output_type": "execute_result"
    }
   ],
   "source": [
    "STAR --runThreadN 4 --runMode genomeGenerate --genomeDir ~/pfb2019_rna1/reference/chr1/indexedchr1 --genomeFastaFiles ~/pfb2019_rna1/reference/chr1/GCF_000001735.4_TAIR10.1_genomic_chr1.fa --sjdbGTFtagExonParentTranscript ~/pfb2019_rna1/reference/chr1/GCF_000001735.4_TAIR10.1_genomic_chr1.gff\n"
   ]
  },
  {
   "cell_type": "markdown",
   "metadata": {},
   "source": [
    "Next map reads using the following format for each replicate:\n",
    "\n",
    "--runThreadN NumberOfThreads\n",
    "--genomeDir /path/to/genomeDir\n",
    "--readFilesIn /path/to/read1 /path/to/read1\n",
    "\n",
    "Next commands are for samples:\n",
    "    Red-light pulse samples:\n",
    "    SRR9659514\n",
    "    SRR9659515\n",
    "    SRR9659516\n",
    "\n",
    "Far-red pulse samples:\n",
    "    SRR9659517\n",
    "    SRR9659518\n",
    "    SRR9659519\t"
   ]
  },
  {
   "cell_type": "code",
   "execution_count": null,
   "metadata": {},
   "outputs": [],
   "source": [
    "STAR --runThreadN 6 --genomeDir ~/pfb2019_rna1/reference/chr1/indexedchr1 --readFilesIn SRR9659514_pass_1_edit.fastq SRR9659514_pass_2_edit.fastq"
   ]
  },
  {
   "cell_type": "code",
   "execution_count": null,
   "metadata": {},
   "outputs": [],
   "source": [
    "STAR --runThreadN 6 --genomeDir ~/pfb2019_rna1/reference/chr1/indexedchr1 --readFilesIn SRR9659515_pass_1_edit.fastq SRR9659515_pass_2_edit.fastq"
   ]
  },
  {
   "cell_type": "code",
   "execution_count": null,
   "metadata": {},
   "outputs": [],
   "source": [
    "STAR --runThreadN 6 --genomeDir ~/pfb2019_rna1/reference/chr1/indexedchr1 --readFilesIn SRR9659516_pass_1_edit.fastq SRR9659516_pass_2_edit.fastq"
   ]
  },
  {
   "cell_type": "code",
   "execution_count": null,
   "metadata": {},
   "outputs": [],
   "source": [
    "STAR --runThreadN 6 --genomeDir ~/pfb2019_rna1/reference/chr1/indexedchr1 --readFilesIn SRR9659517_pass_1_edit.fastq SRR9659517_pass_2_edit.fastq"
   ]
  },
  {
   "cell_type": "code",
   "execution_count": null,
   "metadata": {},
   "outputs": [],
   "source": [
    "STAR --runThreadN 6 --genomeDir ~/pfb2019_rna1/reference/chr1/indexedchr1 --readFilesIn SRR9659518_pass_1_edit.fastq SRR9659518_pass_2_edit.fastq"
   ]
  },
  {
   "cell_type": "code",
   "execution_count": null,
   "metadata": {},
   "outputs": [],
   "source": [
    "STAR --runThreadN 6 --genomeDir ~/pfb2019_rna1/reference/chr1/indexedchr1 --readFilesIn SRR9659519_pass_1_edit.fastq SRR9659519_pass_2_edit.fastq"
   ]
  },
  {
   "cell_type": "markdown",
   "metadata": {},
   "source": [
    "Marya is performing differential analysis on the STAR generated alignments, I used Marina's bowtie2 generated alignments. First, used samtools view to convert all of the the SAM files to BAM files."
   ]
  },
  {
   "cell_type": "code",
   "execution_count": null,
   "metadata": {},
   "outputs": [],
   "source": [
    "samtools view -S -b -@ 6 bw2-FR1-ara-alignments.sam > bw2-FR1-ara-alignments.bam\n",
    "samtools view -S -b -@ 6 bw2-FR2-ara-alignments.sam > bw2-FR2-ara-alignments.bam\n",
    "samtools view -S -b -@ 6 bw2-FR3-ara-alignments.sam > bw2-FR3-ara-alignments.bam\n",
    "samtools view -S -b -@ 6 bw2-R1-ara-alignments.sam > bw2-R1-ara-alignments.bam\n",
    "samtools view -S -b -@ 6 bw2-R2-ara-alignments.sam > bw2-R2-ara-alignments.bam\n",
    "samtools view -S -b -@ 6 bw2-R3-ara-alignments.sam > bw2-R3-ara-alignments.bam"
   ]
  },
  {
   "cell_type": "markdown",
   "metadata": {},
   "source": [
    "Next, sorted the bam files using samtools view."
   ]
  },
  {
   "cell_type": "code",
   "execution_count": null,
   "metadata": {},
   "outputs": [],
   "source": [
    "samtools sort -@ 6 bw2-FR1-ara-alignments.bam -o bw2-FR1-ara-alignments.sorted.bam\n",
    "samtools sort -@ 6 bw2-FR2-ara-alignments.bam -o bw2-FR2-ara-alignments.sorted.bam\n",
    "samtools sort -@ 6 bw2-FR3-ara-alignments.bam -o bw2-FR3-ara-alignments.sorted.bam\n",
    "samtools sort -@ 6 bw2-R1-ara-alignments.bam -o bw2-R1-ara-alignments.sorted.bam\n",
    "samtools sort -@ 6 bw2-R2-ara-alignments.bam -o bw2-R2-ara-alignments.sorted.bam\n",
    "samtools sort -@ 6 bw2-R3-ara-alignments.bam -o bw2-R3-ara-alignments.sorted.bam"
   ]
  },
  {
   "cell_type": "markdown",
   "metadata": {},
   "source": [
    "Now, using the same workflow as Marya to keep things uniform - used stringtie to generate merged transcript file."
   ]
  },
  {
   "cell_type": "code",
   "execution_count": null,
   "metadata": {},
   "outputs": [],
   "source": [
    "stringtie -p 6 -G ~/pfb2019_rna1/reference/chr1/GCF_000001735.4_TAIR10.1_genomic_chr1.gff -o bw2-FR1_chr1.gtf bw2-FR1-ara-alignments.sorted.bam \n",
    "stringtie -p 6 -G ~/pfb2019_rna1/reference/chr1/GCF_000001735.4_TAIR10.1_genomic_chr1.gff -o bw2-FR2_chr1.gtf bw2-FR2-ara-alignments.sorted.bam\n",
    "stringtie -p 6 -G ~/pfb2019_rna1/reference/chr1/GCF_000001735.4_TAIR10.1_genomic_chr1.gff -o bw2-FR3_chr1.gtf bw2-FR3-ara-alignments.sorted.bam\n",
    "stringtie -p 6 -G ~/pfb2019_rna1/reference/chr1/GCF_000001735.4_TAIR10.1_genomic_chr1.gff -o bw2-R1_chr1.gtf bw2-R1-ara-alignments.sorted.bam\n",
    "stringtie -p 6 -G ~/pfb2019_rna1/reference/chr1/GCF_000001735.4_TAIR10.1_genomic_chr1.gff -o bw2-R2_chr1.gtf bw2-R2-ara-alignments.sorted.bam\n",
    "stringtie -p 6 -G ~/pfb2019_rna1/reference/chr1/GCF_000001735.4_TAIR10.1_genomic_chr1.gff -o bw2-R3_chr1.gtf bw2-R3-ara-alignments.sorted.bam\n",
    "\n",
    "\n",
    "\n",
    "\n",
    "\n"
   ]
  },
  {
   "cell_type": "markdown",
   "metadata": {},
   "source": [
    "The merged file is the collection of the output files in mergelistbto.txt:"
   ]
  },
  {
   "cell_type": "code",
   "execution_count": null,
   "metadata": {},
   "outputs": [],
   "source": [
    "bw2-FR1_chr1.gtf\n",
    "bw2-FR2_chr1.gtf\n",
    "bw2-FR3_chr1.gtf\n",
    "bw2-R1_chr1.gtf\n",
    "bw2-R2_chr1.gtf\n",
    "bw2-R3_chr1.gtf"
   ]
  },
  {
   "cell_type": "markdown",
   "metadata": {},
   "source": [
    "Next, merged all the transcripts to one file. This creates one set of transcripts for all samples so the anaysis for differential expression can be performed."
   ]
  },
  {
   "cell_type": "code",
   "execution_count": null,
   "metadata": {},
   "outputs": [],
   "source": [
    "stringtie --merge -p 6 -G ~/pfb2019_rna1/reference/chr1/GCF_000001735.4_TAIR10.1_genomic_chr1.gff -o stringtie_mergedbto.gtf mergelistbto.txt"
   ]
  },
  {
   "cell_type": "markdown",
   "metadata": {},
   "source": [
    "Using the merged transcript file, next used stringtie to estimate transcript abundances and create table counts."
   ]
  },
  {
   "cell_type": "code",
   "execution_count": null,
   "metadata": {},
   "outputs": [],
   "source": [
    "stringtie -e -B -p 6 -G stringtie_mergedbto.gtf -o ballgown/bw2-FR1/bw2-FR1_chr1.gtf bw2-FR1-ara-alignments.sorted.bam\n",
    "stringtie -e -B -p 6 -G stringtie_mergedbto.gtf -o ballgown/bw2-FR2/bw2-FR2_chr1.gtf bw2-FR2-ara-alignments.sorted.bam\n",
    "stringtie -e -B -p 6 -G stringtie_mergedbto.gtf -o ballgown/bw2-FR3/bw2-FR3_chr1.gtf bw2-FR3-ara-alignments.sorted.bam\n",
    "stringtie -e -B -p 6 -G stringtie_mergedbto.gtf -o ballgown/bw2-R1/bw2-R1_chr1.gtf bw2-R1-ara-alignments.sorted.bam\n",
    "stringtie -e -B -p 6 -G stringtie_mergedbto.gtf -o ballgown/bw2-R2/bw2-R2_chr1.gtf bw2-R2-ara-alignments.sorted.bam\n",
    "stringtie -e -B -p 6 -G stringtie_mergedbto.gtf -o ballgown/bw2-R3/bw2-R3_chr1.gtf bw2-R3-ara-alignments.sorted.bam"
   ]
  },
  {
   "cell_type": "markdown",
   "metadata": {},
   "source": [
    "Using the provide a Python script (prepDE.py), extract the read count information directly from the files generated by StringTie in previous step. This automatically knows to pull them from nested directories in ballgown dir"
   ]
  },
  {
   "cell_type": "code",
   "execution_count": null,
   "metadata": {},
   "outputs": [],
   "source": [
    "python2 prepDE.py"
   ]
  },
  {
   "cell_type": "markdown",
   "metadata": {},
   "source": [
    "*note, had to delete STRG.1365.1 manually from FR2 and R2 because it was not cooperating."
   ]
  },
  {
   "cell_type": "markdown",
   "metadata": {},
   "source": [
    "Imported the transcript_count_matrix.csv into R. "
   ]
  },
  {
   "cell_type": "code",
   "execution_count": null,
   "metadata": {},
   "outputs": [],
   "source": [
    "library(readr)\n",
    "library(DESeq2)\n",
    "transcript_count_matrix <- data.frame(read_csv(\"Downloads/transcript_count_matrix.csv\"))\n",
    "View(transcript_count_matrix)\n",
    "\n",
    "rownames(transcript_count_matrix) = transcript_count_matrix$transcript_id\n",
    "transcript_count_matrix$transcript_id = NULL\n",
    "\n",
    "count_matrix = as.matrix(transcript_count_matrix)"
   ]
  },
  {
   "cell_type": "markdown",
   "metadata": {},
   "source": [
    "Also had to make a phenotype .txt file to specify variables later:"
   ]
  },
  {
   "cell_type": "code",
   "execution_count": null,
   "metadata": {},
   "outputs": [],
   "source": [
    "sample,light\n",
    "bw2.FR1,FarRed\n",
    "bw2.FR2,FarRed\n",
    "bw2.FR3,FarRed\n",
    "bw2.R1,Red\n",
    "bw2.R2,Red\n",
    "bw2.R3,Red"
   ]
  },
  {
   "cell_type": "markdown",
   "metadata": {},
   "source": [
    "Imported this into R and named pheno_data. All of the following should be run as a subprocess in R!"
   ]
  },
  {
   "cell_type": "code",
   "execution_count": null,
   "metadata": {},
   "outputs": [],
   "source": [
    "pheno_data = read.csv(\"Downloads/phenotypedata.txt\", row.names = 1)"
   ]
  },
  {
   "cell_type": "markdown",
   "metadata": {},
   "source": [
    "Finally, can create a DESeqDataSet from count matrix and labels:"
   ]
  },
  {
   "cell_type": "code",
   "execution_count": null,
   "metadata": {},
   "outputs": [],
   "source": [
    "dds <- DESeqDataSetFromMatrix(countData = count_matrix, colData = pheno_data, design = ~ light)"
   ]
  },
  {
   "cell_type": "markdown",
   "metadata": {},
   "source": [
    "... and run the default analysis for DESeq2 and generate results table."
   ]
  },
  {
   "cell_type": "code",
   "execution_count": null,
   "metadata": {},
   "outputs": [],
   "source": [
    "dds <- DESeq(dds)\n",
    "res <- results(dds)"
   ]
  },
  {
   "cell_type": "markdown",
   "metadata": {},
   "source": [
    "Sorted by log2 fold change and removed rows with n/a values"
   ]
  },
  {
   "cell_type": "code",
   "execution_count": null,
   "metadata": {},
   "outputs": [],
   "source": [
    "resOrdered <- res[order(res$log2FoldChange),] ##order by log fold change\n",
    "restableordered <- data.frame(resOrdered)\n",
    "restableordered <- na.omit(restableordered)"
   ]
  },
  {
   "cell_type": "markdown",
   "metadata": {},
   "source": [
    "Pulled out 6 most extreme fold changes and graphed in on bar plot. Exports as jpeg."
   ]
  },
  {
   "cell_type": "code",
   "execution_count": null,
   "metadata": {},
   "outputs": [],
   "source": [
    "jpeg('foldchangegraph.jpg')\n",
    "barplot(as.matrix(totaltablefolds),\n",
    "        main = \"Most Extreme Changes by Fold Change\",\n",
    "        ylab = \"Fold Change\",\n",
    "        col = \"light green\",\n",
    "        ylim =  c(-40,40),\n",
    "        beside = TRUE)\n",
    "dev.off()\n"
   ]
  },
  {
   "cell_type": "markdown",
   "metadata": {},
   "source": [
    "Also have it show the table of values used when finished so we can compare to results from STAR alignments"
   ]
  },
  {
   "cell_type": "code",
   "execution_count": null,
   "metadata": {},
   "outputs": [],
   "source": [
    "View(totaltablefolds)"
   ]
  }
 ],
 "metadata": {
  "kernelspec": {
   "display_name": "Python 3",
   "language": "python",
   "name": "python3"
  },
  "language_info": {
   "codemirror_mode": {
    "name": "ipython",
    "version": 3
   },
   "file_extension": ".py",
   "mimetype": "text/x-python",
   "name": "python",
   "nbconvert_exporter": "python",
   "pygments_lexer": "ipython3",
   "version": "3.7.3"
  }
 },
 "nbformat": 4,
 "nbformat_minor": 2
}
