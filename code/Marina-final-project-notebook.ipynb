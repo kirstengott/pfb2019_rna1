{
 "cells": [
  {
   "cell_type": "markdown",
   "metadata": {},
   "source": [
    "### Step 1: FastQC analysis of \"raw\" data\n",
    "\n",
    "- input data .fastq files collected by Kirsten, need to be checked with FastQC for quality\n",
    "- if quality needs fixing, run trimmomatic\n",
    "\n",
    "Possible to make `if` `else` statement following FastQC results to automate the process? \n",
    "\n",
    "### Make sure to test in command line!\n"
   ]
  },
  {
   "cell_type": "code",
   "execution_count": null,
   "metadata": {},
   "outputs": [],
   "source": [
    "#log into AWS server\n",
    "ssh -i PFB2019-student.pem mam@rna1.programmingforbiology.org"
   ]
  },
  {
   "cell_type": "code",
   "execution_count": 1,
   "metadata": {},
   "outputs": [
    {
     "ename": "SyntaxError",
     "evalue": "invalid syntax (<ipython-input-1-3587ef4cbcb9>, line 5)",
     "output_type": "error",
     "traceback": [
      "\u001b[0;36m  File \u001b[0;32m\"<ipython-input-1-3587ef4cbcb9>\"\u001b[0;36m, line \u001b[0;32m5\u001b[0m\n\u001b[0;31m    zcat *fastq.gz | fastqc stdin --outdir /fastqc-results/\u001b[0m\n\u001b[0m                                ^\u001b[0m\n\u001b[0;31mSyntaxError\u001b[0m\u001b[0;31m:\u001b[0m invalid syntax\n"
     ]
    }
   ],
   "source": [
    "#fastqc needs unzipped fastq files, which is what zcat does\n",
    "zcat ~/../share/fastq/<file.in> | fastqc --extract --threads 8 <file.out> \n",
    "\n",
    "#then need to open the .html files in the Safari.app \n"
   ]
  },
  {
   "cell_type": "markdown",
   "metadata": {},
   "source": [
    "I need to subset the fastq files, they are toooooo big to run fully with the short amount of time we have.\n",
    "I'm going to symbolically link them to my directory, where I can modify them.\n",
    "I need to take `head` and `tail` 40,000 reads from each sample, F and R, then put those newly named files in my commandline\n",
    "\n",
    "In directory of fastq files, highlight and copy the name of sample 1\n",
    "In directory where you want to use this fastq file, type:\n",
    "`ln -s <paste_file_name>`\n",
    "`ls -l`\n",
    "makes a symbolic link so you can access this file from a new directory\n",
    "\n",
    "Alternatively, just copy the files to a new folder\n",
    "`gunzip *` \n",
    "`head -n 40000 <file.fastq> > <out.fastq>`\n",
    "`tail -n 40000 <file.fastq> >> <out.fastq>`\n",
    "Note that I use `>>` to append the tail results to the end of the head results\n",
    "`wc -l <out.file>`\n",
    "If I appended correctly, this new out.fastq should have 80000 lines.\n",
    "The numbers should also always be divisible by 4, so that I get complete information on the reads\n",
    "\n",
    "\n"
   ]
  },
  {
   "cell_type": "code",
   "execution_count": null,
   "metadata": {},
   "outputs": [],
   "source": [
    "#bowtie 2 alignment\n",
    "#need to index the full arabidopsis genome! \n",
    "bowtie2-build --threads 10 GCF_000001735.4_TAIR10.1_genomic.fna.gz bw2-ara-indx\n",
    "#where bw2-ara-index is the \"base name\" for the index names\n",
    "\n",
    "#once index is done, begin alignments from within the \"bowtie2-alignment\" dir \n",
    "bowtie2 -p 10 --mm -t --end-to-end -x ~/pfb2019_rna1/reference/full/bw2-ara-indx -1 fastq-files/SRR9659514_pass_1_short.fastq -2 fastq-files/SRR9659514_pass_2_short.fastq --un-conc-gz bw2-short-output/bw2-R1-ara-un-conc.fq.gz --al-conc-gz bw2-short-output/bw2-R1-ara-al-conc.fq.gz -S bw2-short-output/bw2-R1-ara-alignments.sam 2> bw2-short-output/bw2-R1-ara-output.stdout\n",
    "bowtie2 -p 10 --mm -t --end-to-end -x ~/pfb2019_rna1/reference/full/bw2-ara-indx -1 fastq-files/SRR9659515_pass_1_short.fastq -2 fastq-files/SRR9659515_pass_2_short.fastq --un-conc-gz bw2-short-output/bw2-R2-ara-un-conc.fq.gz --al-conc-gz bw2-short-output/bw2-R2-ara-al-conc.fq.gz -S bw2-short-output/bw2-R2-ara-alignments.sam 2> bw2-short-output/bw2-R2-ara-output.stdout\n",
    "bowtie2 -p 10 --mm -t --end-to-end -x ~/pfb2019_rna1/reference/full/bw2-ara-indx -1 fastq-files/SRR9659516_pass_1_short.fastq -2 fastq-files/SRR9659516_pass_2_short.fastq --un-conc-gz bw2-short-output/bw2-R3-ara-un-conc.fq.gz --al-conc-gz bw2-short-output/bw2-R3-ara-al-conc.fq.gz -S bw2-short-output/bw2-R3-ara-alignments.sam 2> bw2-short-output/bw2-R3-ara-output.stdout\n",
    "bowtie2 -p 10 --mm -t --end-to-end -x ~/pfb2019_rna1/reference/full/bw2-ara-indx -1 fastq-files/SRR9659517_pass_1_short.fastq -2 fastq-files/SRR9659517_pass_2_short.fastq --un-conc-gz bw2-short-output/bw2-FR1-ara-un-conc.fq.gz --al-conc-gz bw2-short-output/bw2-FR1-ara-al-conc.fq.gz -S bw2-short-output/bw2-FR1-ara-alignments.sam 2> bw2-short-output/bw2-FR1-ara-output.stdout\n",
    "bowtie2 -p 10 --mm -t --end-to-end -x ~/pfb2019_rna1/reference/full/bw2-ara-indx -1 fastq-files/SRR9659518_pass_1_short.fastq -2 fastq-files/SRR9659518_pass_2_short.fastq --un-conc-gz bw2-short-output/bw2-FR2-ara-un-conc.fq.gz --al-conc-gz bw2-short-output/bw2-FR2-ara-al-conc.fq.gz -S bw2-short-output/bw2-FR2-ara-alignments.sam 2> bw2-short-output/bw2-FR2-ara-output.stdout\n",
    "bowtie2 -p 10 --mm -t --end-to-end -x ~/pfb2019_rna1/reference/full/bw2-ara-indx -1 fastq-files/SRR9659519_pass_1_short.fastq -2 fastq-files/SRR9659519_pass_2_short.fastq --un-conc-gz bw2-short-output/bw2-FR3-ara-un-conc.fq.gz --al-conc-gz bw2-short-output/bw2-FR3-ara-al-conc.fq.gz -S bw2-short-output/bw2-FR3-ara-alignments.sam 2> bw2-short-output/bw2-FR3-ara-output.stdout\n"
   ]
  },
  {
   "cell_type": "code",
   "execution_count": null,
   "metadata": {},
   "outputs": [],
   "source": [
    "#Commandline for running the overnight, full size data set.\n",
    "#Data stored in out-of-repository dir called bw2-full-results-DONT-PUSH\n",
    "\n",
    "bowtie2 -p 8 --mm -t --end-to-end -x pfb2019_rna1/reference/full/bw2-ara-indx -1 ../share/fastq/SRR9659514_pass_1_edit.fastq.gz -2 ../share/fastq/SRR9659514_pass_2_edit.fastq.gz --un-conc-gz bw2-full-results-DONT-PUSH/bw2-R1-ara-un-conc.fq.gz --al-conc-gz bw2-full-results-DONT-PUSH/bw2-R1-ara-al-conc.fq.gz -S bw2-full-results-DONT-PUSH/SRR9659514_short.sam 2> bw2-full-results-DONT-PUSH/SRR9659514_short.stdout\n",
    "bowtie2 -p 8 --mm -t --end-to-end -x pfb2019_rna1/reference/full/bw2-ara-indx -1 ../share/fastq/SRR9659515_pass_1_edit.fastq.gz -2 ../share/fastq/SRR9659515_pass_2_edit.fastq.gz --un-conc-gz bw2-full-results-DONT-PUSH/bw2-R2-ara-un-conc.fq.gz --al-conc-gz bw2-full-results-DONT-PUSH/bw2-R2-ara-al-conc.fq.gz -S bw2-full-results-DONT-PUSH/bw2-R2-ara-alignments.sam 2> bw2-full-results-DONT-PUSH/bw2-R2-ara-output.stdout\n",
    "bowtie2 -p 8 --mm -t --end-to-end -x pfb2019_rna1/reference/full/bw2-ara-indx -1 ../share/fastq/SRR9659516_pass_1_edit.fastq.gz -2 ../share/fastq/SRR9659516_pass_2_edit.fastq.gz --un-conc-gz bw2-full-results-DONT-PUSH/bw2-R3-ara-un-conc.fq.gz --al-conc-gz bw2-full-results-DONT-PUSH/bw2-R3-ara-al-conc.fq.gz -S bw2-full-results-DONT-PUSH/bw2-R3-ara-alignments.sam 2> bw2-full-results-DONT-PUSH/bw2-R3-ara-output.stdout\n",
    "bowtie2 -p 8 --mm -t --end-to-end -x pfb2019_rna1/reference/full/bw2-ara-indx -1 ../share/fastq/SRR9659517_pass_1_edit.fastq.gz -2 ../share/fastq/SRR9659517_pass_2_edit.fastq.gz --un-conc-gz bw2-full-results-DONT-PUSH/bw2-FR1-ara-un-conc.fq.gz --al-conc-gz bw2-full-results-DONT-PUSH/bw2-FR1-ara-al-conc.fq.gz -S bw2-full-results-DONT-PUSH/bw2-FR1-ara-alignments.sam 2> bw2-full-results-DONT-PUSH/bw2-FR1-ara-output.stdout\n",
    "bowtie2 -p 8 --mm -t --end-to-end -x pfb2019_rna1/reference/full/bw2-ara-indx -1 ../share/fastq/SRR9659518_pass_1_edit.fastq.gz -2 ../share/fastq/SRR9659518_pass_2_edit.fastq.gz --un-conc-gz bw2-full-results-DONT-PUSH/bw2-FR2-ara-un-conc.fq.gz --al-conc-gz bw2-full-results-DONT-PUSH/bw2-FR2-ara-al-conc.fq.gz -S bw2-full-results-DONT-PUSH/bw2-FR2-ara-alignments.sam 2> bw2-full-results-DONT-PUSH/bw2-FR2-ara-output.stdout\n",
    "bowtie2 -p 8 --mm -t --end-to-end -x pfb2019_rna1/reference/full/bw2-ara-indx -1 ../share/fastq/SRR9659519_pass_1_edit.fastq.gz -2 ../share/fastq/SRR9659519_pass_2_edit.fastq.gz --un-conc-gz bw2-full-results-DONT-PUSH/bw2-FR3-ara-un-conc.fq.gz --al-conc-gz bw2-full-results-DONT-PUSH/bw2-FR3-ara-al-conc.fq.gz -S bw2-full-results-DONT-PUSH/bw2-FR3-ara-alignments.sam 2> bw2-full-results-DONT-PUSH/bw2-FR3-ara-output.stdout\n"
   ]
  },
  {
   "cell_type": "markdown",
   "metadata": {},
   "source": [
    "### Analysis of unaligned reads\n",
    "We have ~30% of reads that did not align to the full arabidopsis genome. \n",
    "What are they? \n",
    "\n",
    "I need to blast my reads, so that I can retrieve a list of potential organisms present in my data. \n",
    "\n",
    "Since PE fastq files contain 2 copies of reads, and also duplicate copies of certain reads, I need to **uniqify** my reads, and I might as well make them fasta format for ease of blasting. \n",
    "\n",
    "Step1: Interleave forward and reverse reads for each sample. \n",
    "Step2: Remove @ headers and other extraneous data\n",
    "Step3: Uniqify, so each read sequence is only found once. \n",
    "Step4: blast "
   ]
  },
  {
   "cell_type": "markdown",
   "metadata": {},
   "source": [
    "### Interleave\n",
    "I found a BioPython script from this website:\n",
    "I retyped it, instead of just copy paste, so that I have a better idea how it works.\n",
    "https://news.open-bio.org/2009/12/14/interleaving-paired-fastq-files-with-biopython/\n",
    "I named my file verison `interleave.py`\n",
    "\n",
    "Turns out this script was out of date, despite being on BioPython. \n",
    "\n",
    "I added sys.argv arguments, so the input files can be specified from the commandline, and the output file name can also be specified from the commandline.\n",
    "\n",
    "I added error messages, saying which files need to be added if the user forgets.\n",
    "\n",
    "The script used a new method for me, `yield` instead of `return` at the end of a function.\n",
    "Turns out `return` sends a specified value back to its caller, while `yield` can produce a sequence of values and should be used to iterate over a sequence without storing the entire seq to memory. We're using `yield` in this script to produce a sequence of the sequences from the forward file and reverse file, respectively. \n",
    "\n",
    "The next thing I changed was `'rU'` to just `'r'`. The U apparently used to stand for 'Universal newline' and would automatically open the file as 'read' and remove \\n. But that character no longer works, because 'r' automatically does it now, by itself.\n",
    "\n",
    "I got an error about `itertools.izip`. This has also been updated, and now I can replace it all with just `zip`. https://stackoverflow.com/questions/32261698/my-idle-does-not-recognize-itertools-izip-as-a-function\n",
    "\n",
    "The last error I got was an assertion error. In the code, I'd specified the `assert forward.id == reverse.id`. The error probably means that my reads are not perfectly paired, even though they are supposed to be conc-unaligned read pairs. So, to get around it, I just commented (#) the line out. Now it runs. Since all I want to do is blast these, I don't really care about whether they are real pairs or not, for now. \n",
    "https://www.tutorialspoint.com/python3/assertions_in_python.htm \n",
    "\n"
   ]
  },
  {
   "cell_type": "code",
   "execution_count": 2,
   "metadata": {},
   "outputs": [
    {
     "ename": "SyntaxError",
     "evalue": "invalid syntax (<ipython-input-2-a548dea644f7>, line 2)",
     "output_type": "error",
     "traceback": [
      "\u001b[0;36m  File \u001b[0;32m\"<ipython-input-2-a548dea644f7>\"\u001b[0;36m, line \u001b[0;32m2\u001b[0m\n\u001b[0;31m    ./interleave.py bw2-R1-ara-un-conc.fq.1 bw2-R1-ara-un-conc.fq.2 bw2-R1-ara-un-conc-interleaved.fq\u001b[0m\n\u001b[0m    ^\u001b[0m\n\u001b[0;31mSyntaxError\u001b[0m\u001b[0;31m:\u001b[0m invalid syntax\n"
     ]
    }
   ],
   "source": [
    "#interleaving files\n",
    "./interleave.py bw2-R1-ara-un-conc.fq.1 bw2-R1-ara-un-conc.fq.2 bw2-R1-ara-un-conc-interleaved.fq\n",
    "./interleave.py bw2-R2-ara-un-conc.fq.1 bw2-R2-ara-un-conc.fq.2 bw2-R2-ara-un-conc-interleaved.fq\n",
    "./interleave.py bw2-R3-ara-un-conc.fq.1 bw2-R3-ara-un-conc.fq.2 bw2-R2-ara-un-conc-interleaved.fq\n",
    "./interleave.py bw2-FR1-ara-un-conc.fq.1 bw2-FR1-ara-un-conc.fq.2 bw2-FR1-ara-un-conc-interleaved.fq\n",
    "./interleave.py bw2-FR2-ara-un-conc.fq.1 bw2-FR2-ara-un-conc.fq.2 bw2-FR2-ara-un-conc-interleaved.fq\n",
    "./interleave.py bw2-FR3-ara-un-conc.fq.1 bw2-FR3-ara-un-conc.fq.2 bw2-FR3-ara-un-conc-interleaved.fq\n",
    "\n",
    "#Check the output quality by running\n",
    "wc -l bw2-R1-ara-un-conc.fq.1 # = 25745176\n",
    "wc -l bw2-R1-ara-un-conc.fq.2 # = 25745176\n",
    "wc -l bw2-R1-ara-un-conc-interleaved.fq # = 51490352\n",
    "#And if the numbers are too big to eyeball as 'half'\n",
    "python3\n",
    "25745176*2\n",
    "#answer should be 51490352"
   ]
  },
  {
   "cell_type": "markdown",
   "metadata": {},
   "source": [
    "### Unique-ify the interleaved fastq file(s)\n",
    "Step 1: get sequences into a fasta. I don't really need any identifiers, just strings of reads, but blast is designed for fasta input, so this is ok. See the link for more info on SeqIO: https://github.com/peterjc/biopython_workshop/blob/master/writing_sequence_files/README.rst. I named this script `fastq_to_fasta.py`. Command line input is interleaved file, and name of out-put fasta file.\n",
    "\n",
    "Step 2: uniqify strings. See this script: https://www.biostars.org/p/292207/\n",
    "I added sys.argv. Named the script `unique-reads.py`. Command line input is fasta file, and name of output uniqified fasta file. \n"
   ]
  },
  {
   "cell_type": "code",
   "execution_count": null,
   "metadata": {},
   "outputs": [],
   "source": [
    "#At the top of each file, I establish the expected input\n",
    "try:\n",
    "    input_file = sys.argv[1]\n",
    "except:\n",
    "    print('need to specify input fasta file name')\n",
    "    sys.exit(1)\n",
    "try:\n",
    "    output_file = sys.argv[2]\n",
    "except:\n",
    "    print('specify file name for uniqified fasta sequences file')\n",
    "    sys.exit(1)"
   ]
  },
  {
   "cell_type": "code",
   "execution_count": null,
   "metadata": {},
   "outputs": [],
   "source": [
    "#Step1\n",
    "#by far the shortest lines of code to convert fastq to fasta is the following:\n",
    "count = SeqIO.convert(fastq, 'fastq', out_file.rstrip(), 'fasta')\n",
    "print(str(count) + \" records converted\")\n",
    "\n",
    "#where fastq is the specified input file, out_file is the specified name for the output file\n",
    "#SeqIO.convert basically does this (which, by itself, will also convert fastq to fasta):\n",
    "\n",
    "with open(fastq,'r') as infile:\n",
    "    line_ct = 0\n",
    "    for line in infile:\n",
    "        if (line_ct %4 == 0):\n",
    "            line_ct = 0\n",
    "        if (line_ct == 1):\n",
    "            print(line, end = \"\")\n",
    "        line_ct += 1\n",
    "        outfile.write(line_ct)"
   ]
  },
  {
   "cell_type": "code",
   "execution_count": null,
   "metadata": {},
   "outputs": [],
   "source": [
    "#Step2\n",
    "holder=[]\n",
    "with open(input_file,'r') as fo:\n",
    "    record = fo.read().split('>')[1:]\n",
    "    record = ['>'+i.strip()+'\\n' for i in record]\n",
    "holder.extend(record)\n",
    "\n",
    "total='\\n'.join(list(set(holder)))\n",
    "\n",
    "with open(output_file,'w') as out:\n",
    "    out.write(total)"
   ]
  },
  {
   "cell_type": "markdown",
   "metadata": {},
   "source": [
    "### BLAST\n",
    "I'm going to blast my unique reads in fasta format using tblastn against the SwissProt manually curated database. I downloaded the fasta of this data base from the following link: ftp://ftp.uniprot.org/pub/databases/uniprot/current_release/knowledgebase/complete/uniprot_sprot.fasta.gz using wget. `gunzip`.\n",
    "\n",
    "Since my fasta files are nucleotide, and my database is protein, I need to use blastx. \n",
    "I'm setting my cutoff e-value 1E-3. \n",
    "Though my script has `-num-threads` specified, it doesn't run more than one when `-subject` is specified. Unfortunantly. \n",
    "I specified `-outfmt` as `6` so that it "
   ]
  },
  {
   "cell_type": "code",
   "execution_count": null,
   "metadata": {},
   "outputs": [],
   "source": [
    "#make blast database (index) from swissprot database\n",
    "makeblastdb -in uniprot_sprot.fasta -dbtype prot\n",
    "#prot = protein database input\n",
    "#Produces three new files: unipro_sprot.fasta.phr, ....pin, ....psq\n",
    "\n",
    "#remember to enter `screen` before running blast command.\n",
    "#running blastx from the command line\n",
    "blastx -query FR1_unique.fasta -subject uniprot_sprot.fasta -outfmt 6 -out FR1_swissprot.txt -evalue 1E-3 -matrix BLOSUM50 -num_threads 2\n",
    "blastx -query FR2_unique.fasta -subject uniprot_sprot.fasta -outfmt 6 -out FR2_swissprot.txt -evalue 1E-3 -matrix BLOSUM50 -num_threads 2\n",
    "blastx -query FR3_unique.fasta -subject uniprot_sprot.fasta -outfmt 6 -out FR3_swissprot.txt -evalue 1E-3 -matrix BLOSUM50 -num_threads 2\n",
    "blastx -query R1_unique.fasta -subject uniprot_sprot.fasta -outfmt 6 -out R1_swissprot.txt -evalue 1E-3 -matrix BLOSUM50 -num_threads 2\n",
    "blastx -query R2_unique.fasta -subject uniprot_sprot.fasta -outfmt 6 -out R2_swissprot.txt -evalue 1E-3 -matrix BLOSUM50 -num_threads 2\n",
    "blastx -query R3_unique.fasta -subject uniprot_sprot.fasta -outfmt 6 -out R3_swissprot.txt -evalue 1E-3 -matrix BLOSUM50 -num_threads 2\n",
    "\n",
    "#also ran a shortened file version, hopefully something finishes in time. \n",
    "blastx -query FR1-short.fa -subject uniprot_sprot.fasta -outfmt 6 -out FR1-short-swissprot.txt -evalue 1E-3 -matrix BLOSUM50 \n"
   ]
  },
  {
   "cell_type": "markdown",
   "metadata": {},
   "source": [
    "### BLASTx output interpretation\n",
    "I got a columnar table from blast using the `-outfmt 6` specification. \n",
    "\n",
    "It has the format shown below. `head FR1-short-swissprot.txt`.\n",
    "\n",
    "I need to parse out the 2nd column (`sseqid`), then split that column on `'|'` and make a list of the UniProt Ids and their associated organism names. I'll build a script for this called `taxon-id-separator.py`.\n",
    "\n",
    "Since I didn't have time to do the parsing and geneID searches, https://www.uniprot.org/uniprot/Q8GXW1 here is an example of the top hit in the snippet below. Not sure why Arabidopsis is still in the unaligned reads..."
   ]
  },
  {
   "cell_type": "code",
   "execution_count": null,
   "metadata": {},
   "outputs": [],
   "source": [
    "#The columns are as follows:\n",
    "#qseqid                 sseqid                  pident  length  mismatch gapopen qstart qend    sstart  send    evalue          bitscore\n",
    "SRR9659517.6201326/2/2  sp|Q8GXW1|RGL2_ARATH    100.000 33      0       0       100     2       203     235     2.30e-12        61.1\n",
    "SRR9659517.6201326/2/2  sp|Q9LF53|RGL3_ARATH    90.625  32      3       0       100     5       180     211     5.37e-10        54.4\n",
    "SRR9659517.6201326/2/2  sp|Q9SLH3|RGA_ARATH     81.250  32      6       0       100     5       244     275     5.16e-08        48.8\n",
    "SRR9659517.6201326/2/2  sp|Q9C8Y3|RGL1_ARATH    81.250  32      6       0       100     5       175     206     8.26e-08        48.3\n",
    "SRR9659517.6201326/2/2  sp|Q5BN22|RGA2_BRACM    81.250  32      6       0       100     5       237     268     9.76e-08        48.0\n",
    "SRR9659517.6201326/2/2  sp|Q5BN23|RGA1_BRACM    81.250  32      6       0       100     5       231     262     1.03e-07        48.0\n",
    "SRR9659517.6201326/2/2  sp|Q6EI05|GAIPB_CUCMA   80.645  31      6       0       97      5       242     272     1.33e-07        47.7\n",
    "SRR9659517.6201326/2/2  sp|Q84TQ7|GAI_GOSHI     78.125  32      7       0       100     5       194     225     1.39e-07        47.7\n",
    "SRR9659517.6201326/2/2  sp|Q8S4W7|GAI1_VITVI    78.125  32      7       0       100     5       237     268     2.14e-07        47.2\n",
    "SRR9659517.6201326/2/2  sp|Q2TN88|SLR1_ORYSI    68.750  32      10      0       100     5       264     295     2.66e-07        46.9"
   ]
  },
  {
   "cell_type": "markdown",
   "metadata": {},
   "source": [
    "### What have I learned in the past 2 weeks? \n",
    "Perhaps, most importantly, I learned about `#!/usr/bin/env python3`, and that scripts can be small!\n",
    "\n",
    "I've also learned a ton about useful commands, most often simple things like `ls -lFh`, but also more complex ideas like `class` and how to apply components of `sys` and `os`.\n",
    "\n",
    "### My biggest challenge still:\n",
    "Combining small scripts into one, so output moves to input of another."
   ]
  },
  {
   "cell_type": "markdown",
   "metadata": {},
   "source": [
    "# Group Goals\n",
    "### What to do better next time:\n",
    "1. Get out put from Bowtie2 as BAM format directly, to skip samtools steps\n",
    "2. Implement Trinity instead of Stringtie, to assemble transcripts independently of reference gtf file\n",
    "3. Instead of DESeq2 for differential expression analysis, can use Salmon, HT-Seq to estimate expression levels\n",
    "\n",
    "### What to do given more time:\n",
    "1. For Cynthia's script combining commandline input: Need to parse a directory with fastq files, output a `*.zip` and `*.html` instead of just one file.\n",
    "2. For alignment, compare STAR results to Bowtie2, given enough time for STAR to finish running.\n",
    "3. Write a script to use Bowtie2 std.out output directly - to gather statistics on concordant alignments. \n",
    "4. Practice more with running R from python scripts, and building scripts to take soft inputs instead of directories.\n",
    "5. Continue combining scripts to generate a continuous pipeline.\n",
    "\n",
    "\n",
    "\n"
   ]
  }
 ],
 "metadata": {
  "kernelspec": {
   "display_name": "Python 3",
   "language": "python",
   "name": "python3"
  },
  "language_info": {
   "codemirror_mode": {
    "name": "ipython",
    "version": 3
   },
   "file_extension": ".py",
   "mimetype": "text/x-python",
   "name": "python",
   "nbconvert_exporter": "python",
   "pygments_lexer": "ipython3",
   "version": "3.7.3"
  }
 },
 "nbformat": 4,
 "nbformat_minor": 2
}
