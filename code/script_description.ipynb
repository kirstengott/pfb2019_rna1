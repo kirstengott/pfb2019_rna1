{
 "cells": [
  {
   "cell_type": "markdown",
   "metadata": {},
   "source": [
    "# Brief description of the preprocessing_data.py file\n"
   ]
  },
  {
   "cell_type": "markdown",
   "metadata": {},
   "source": [
    "# The script is composed by 3 functions:\n",
    "\n",
    "1. Function to trigger fastqc reports (read the full folder)\n",
    "def fastaf_quality(dir_f):\n",
    "\n",
    "OUTPUT: Fastqc files\n",
    "file_name.html\n",
    "file-name.zip\n",
    "\n",
    "2. Function to triger alignments\n",
    "def bowtie2_f(R1,R2,b_name):\n",
    "\n",
    "Not finished, the idea here it is to trigger several aligners (STAR, Bowtie2, etc...) with the same source files in order to later compare the results of the aligners used.\n",
    "\n",
    "\n",
    "3. Function to parse the output of sam files\n",
    "def bowtie2_read_std_out(dir_s):\n",
    "\n",
    "This function reads all the sam output files into a folder to build with them a resume table. Needs to be review and improve.\n",
    "\n",
    "OUTPUT:\n",
    "Actually the output is like this by each file:\n",
    "Sam (ouput) file name: SRR9659517_short.stdout\n",
    "8004 (40.02%) aligned concordantly 0 times\n",
    "9940 (49.70%) aligned concordantly exactly 1 time\n",
    "2056 (10.28%) aligned concordantly >1 times\n"
   ]
  },
  {
   "cell_type": "markdown",
   "metadata": {},
   "source": [
    "# Libraries:\n",
    "#!/usr/bin/env python3\n",
    "import sys\n",
    "import os    #to interact with the unix shell\n",
    "import subprocess   #run some tools as subprocess from the shell\n",
    "import pathlib .    #gets a list of files inside a given path\n",
    "\n",
    "This are the libraries required for this script"
   ]
  },
  {
   "cell_type": "markdown",
   "metadata": {},
   "source": [
    "# USAGE\n",
    "\n",
    "for the fasta function: def fastaf_quality(dir_f)\n",
    "$python3 preprocessing_data.py <../fastq-files-folder/> <folder_to_save_the_fasqc_results>\n",
    "\n",
    "for the sam output function: def bowtie2_read_std_out(dir_s): \n",
    "$python3 preprocessing_data.py <../fastq-files/>\n",
    "\n",
    "Note: currently I fix the path name to test the code... you need to coment the line that read the directory "
   ]
  },
  {
   "cell_type": "markdown",
   "metadata": {},
   "source": [
    "Functions can be call at the end of the code as you need it, just look for the label:\n",
    "##################  HERE ARE CALL THE FUNCTIONS ################################\n"
   ]
  }
 ],
 "metadata": {
  "kernelspec": {
   "display_name": "Python 3",
   "language": "python",
   "name": "python3"
  },
  "language_info": {
   "codemirror_mode": {
    "name": "ipython",
    "version": 3
   },
   "file_extension": ".py",
   "mimetype": "text/x-python",
   "name": "python",
   "nbconvert_exporter": "python",
   "pygments_lexer": "ipython3",
   "version": "3.7.3"
  }
 },
 "nbformat": 4,
 "nbformat_minor": 2
}
