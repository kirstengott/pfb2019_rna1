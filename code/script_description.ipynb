{
 "cells": [
  {
   "cell_type": "markdown",
   "metadata": {},
   "source": [
    "# Brief description of the preprocessing_data.py file\n"
   ]
  },
  {
   "cell_type": "markdown",
   "metadata": {},
   "source": [
    "# The script is composed by 3 functions:\n",
    "\n",
    "1. Function to trigger fastqc reports (read the full folder)\n",
    "def fastaf_quality(dir_f):\n",
    "INPUT: fastq files directory\n",
    "\n",
    "OUTPUT: Fastqc files/ \n",
    "    file_name.html\n",
    "    file-name.zip\n",
    "\n",
    "2. Function to triger alignments\n",
    "def bowtie2_f(R1,R2,idx_name):\n",
    "\n",
    "You need to complete the function..., the idea is to trigger multiple aligners (STAR, Bowtie2, etc...)  in order to  compare the output results.\n",
    "\n",
    "3. Function to parse the output of sam files\n",
    "def bowtie2_read_std_out(dir_s):\n",
    "\n",
    "This function build a resume table. \n",
    "INPUT: sam output files directory\n",
    "\n",
    "OUTPUT: (Actually the data are stored in a list of lists)\n",
    "Actually the output is like this by each file:\n",
    "\n",
    "Original sam std_out_file:\n",
    "Sam (ouput) file name: SRR9659517_short.stdout\n",
    "8004 (40.02%) aligned concordantly 0 times\n",
    "9940 (49.70%) aligned concordantly exactly 1 time\n",
    "2056 (10.28%) aligned concordantly >1 times\n",
    "\n",
    "Current:\n",
    "Comparative table of SAM output results\n",
    "\n",
    "FILE_NAME\tAlgn.Conc.0\tAlgn.Conc.1\n",
    "\n",
    "SRR9659519 ['718', '(33.59%)']\n",
    "SRR9659519 ['0829', '(54.15%)']\n",
    "SRR9659519 ['453', '(12.27%)']\n",
    "SRR9659515 ['990', '(39.95%)']\n",
    "SRR9659515 ['0694', '(53.47%)']\n",
    "SRR9659515 ['316', '(6.58%)']\n",
    "SRR9659517 ['004', '(40.02%)']\n",
    "SRR9659517 ['940', '(49.70%)']\n",
    "SRR9659517 ['056', '(10.28%)']\n",
    "SRR9659514 ['3157', '(65.78%)']\n",
    "SRR9659514 ['477', '(27.39%)']\n",
    "SRR9659514 ['366', '(6.83%)']\n",
    "SRR9659518 ['557', '(37.78%)']\n",
    "SRR9659518 ['1156', '(55.78%)']\n",
    "SRR9659518 ['287', '(6.43%)']\n",
    "SRR9659516 ['910', '(44.55%)']\n",
    "SRR9659516 ['0028', '(50.14%)']\n",
    "SRR9659516 ['062', '(5.31%)']\n"
   ]
  },
  {
   "cell_type": "markdown",
   "metadata": {},
   "source": [
    "# Libraries:\n",
    "\n",
    "#!/usr/bin/env python3\n",
    "import sys\n",
    "import os    #to interact with the unix shell\n",
    "import subprocess   #run some tools as subprocess from the shell\n",
    "import pathlib .    #gets a list of files inside a given path\n",
    "\n",
    "This are the libraries required for this script"
   ]
  },
  {
   "cell_type": "markdown",
   "metadata": {},
   "source": [
    "# USAGE\n",
    "\n",
    "if funct_to_execute=='1':\n",
    "    print('You are running the FASTQC function:' + funct_to_execute)\n",
    "    if fastaf_quality(dir_f): print(\"Fasta file process done\")\n",
    "    \n",
    "    #### Just add the folder name and funcion number 1\n",
    "    #### python3 preprocessing_data.py <fasta_dir/> <opc_dir_for_output>\n",
    "    #### python3 preprocessing_data.py fasta_test/ 1 \n",
    "    \n",
    "    \n",
    "elif funct_to_execute=='2':\n",
    "    # ASSUMING THE INDEX PROCESS WAS DONE PREVIOUSLY \n",
    "    # FUNCTION TO RUN THE BOWTIE PROCESS with PE\n",
    "    fastaR1 = 'R1'\n",
    "    fastaR2 = 'R2'\n",
    "    idx_base = 'Base'\n",
    "    bow1 = bowtie2_f()\n",
    "    if bow1: print('Done bwt2')\n",
    "\n",
    "    #### Just add the folder name and funcion number 2\n",
    "    #### python3 preprocessing_data.py <R1> <R2> <Idx_base_name>\n",
    "    #### python3 preprocessing_data.py Read1 Read2 Idx 2 \n",
    "    #### do not forget to check the parameters...\n",
    "\n",
    "elif funct_to_execute=='3':\n",
    "    print('You are running the SAM cheking function:' + funct_to_execute)\n",
    "    # FUNCTION TO GET THE BOWTIE2 RESULTS\n",
    "    samlist = bowtie2_read_std_out(dir_f)\n",
    "    # Send the sam_list resume table to the screen\n",
    "    #for sam in samlist:\n",
    "    #  print(sam)\n",
    "\n",
    "    #### Just add the folder name and funcion number 3\n",
    "    #### python3 preprocessing_data.py folder_sam_files 3 \n",
    "    \n",
    "else:\n",
    "    print(\"Function not available, 1:Fastqc    2:Bowtie2   3:Parse Sam Output \")\n",
    "\n",
    "for the fasta function: def fastaf_quality(dir_f)\n",
    "$python3 preprocessing_data.py <../fastq-files-folder/> <folder_to_save_the_fasqc_results>\n",
    "\n",
    "for the sam output function: def bowtie2_read_std_out(dir_s): \n",
    "$python3 preprocessing_data.py <../fastq-files/>\n",
    "\n",
    "Note: currently I fix the path name to test the code... you need to coment the line that read the directory "
   ]
  },
  {
   "cell_type": "markdown",
   "metadata": {},
   "source": [
    "Functions can be call at the end of the code as you need it, just look for the label:\n",
    "##################  HERE ARE CALL THE FUNCTIONS ################################\n"
   ]
  }
 ],
 "metadata": {
  "kernelspec": {
   "display_name": "Python 3",
   "language": "python",
   "name": "python3"
  },
  "language_info": {
   "codemirror_mode": {
    "name": "ipython",
    "version": 3
   },
   "file_extension": ".py",
   "mimetype": "text/x-python",
   "name": "python",
   "nbconvert_exporter": "python",
   "pygments_lexer": "ipython3",
   "version": "3.7.3"
  }
 },
 "nbformat": 4,
 "nbformat_minor": 2
}
